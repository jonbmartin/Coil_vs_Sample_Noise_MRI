{
 "cells": [
  {
   "cell_type": "code",
   "execution_count": null,
   "metadata": {},
   "outputs": [],
   "source": [
    "# 12-18-2022\n",
    "# benjamin m hardy\n",
    "# Purpose: demonstrate relationships dictating relative noise contributions from \n",
    "# some key references:\n",
    "\n",
    "# great intro reference is Noise in MRI - Al macovski\n",
    "# [1] https://pubmed.ncbi.nlm.nih.gov/8875425/\n",
    "# another more recent interesting take:\n",
    "# [2] https://ieeexplore.ieee.org/document/5910383\n",
    "\n",
    "# great description of Q-relationship:\n",
    "# [3] https://pubmed.ncbi.nlm.nih.gov/10680678/\n",
    "# would be good to improve on this paper's assumptions and to show it experimentally.\n",
    "\n",
    "# Overall great reference is Darasse and Ginefri\n",
    "# [4] https://pubmed.ncbi.nlm.nih.gov/14652180/\n",
    "\n",
    "# key question: How does temperature, coil size, conductivity of sample, influence noise contributions\n",
    "# figure 4 in Darasse and Ginefri is the experimental demonstration we would want to show.\n"
   ]
  },
  {
   "cell_type": "code",
   "execution_count": null,
   "metadata": {},
   "outputs": [],
   "source": [
    "# imports:\n",
    "from math import pi\n",
    "import numpy as np\n",
    "import matplotlib.pyplot as plt\n"
   ]
  },
  {
   "cell_type": "code",
   "execution_count": null,
   "metadata": {},
   "outputs": [],
   "source": [
    "# use nice Latex typesetting\n",
    "plt.rcParams.update({\n",
    "    \"text.usetex\": True,\n",
    "    \"font.family\": \"Helvetica\"\n",
    "})"
   ]
  },
  {
   "cell_type": "code",
   "execution_count": null,
   "metadata": {},
   "outputs": [],
   "source": [
    "# figure 1: \n",
    "# sample resistance and coil resistance vs coil size\n",
    "# for a uniform sphere (eq. 6 in ref [4], also hoult and Richards)\n",
    "\n",
    "b = .005 # sample radius, m\n",
    "sigma = .66 # conductivity of sample, S/m\n",
    "omega = 2*pi*650e6 # resonance frequency, 650 MHz\n",
    "cc = 1 # coupling coefficient (B1/Ic) B1 over the current in coil\n",
    "rs = lambda sigma, omega, cc, b: 2*pi*sigma*omega**2 *cc**2 * b**5/15\n",
    "\n",
    "number_b_points = 100\n",
    "b_min = 0.001 # m\n",
    "b_max = 0.01 # m\n",
    "b_grid = np.linspace(0.001, 0.01, number_b_points)\n",
    "rs_vs_b = []\n",
    "for b_index in range(number_b_points):\n",
    "    rs_vs_b.append(rs(sigma, omega, cc, b_grid[b_index]))\n",
    "    \n",
    "plt.plot(b_grid, rs_vs_b)\n",
    "plt.xlabel('$b (m)$')\n",
    "plt.ylabel(r'$R_s$')\n",
    "plt.show()\n",
    "    \n"
   ]
  },
  {
   "cell_type": "code",
   "execution_count": null,
   "metadata": {},
   "outputs": [],
   "source": [
    "# figure 2:\n",
    "# temperature of coil and conductivity of sample"
   ]
  }
 ],
 "metadata": {
  "kernelspec": {
   "display_name": "Python 3",
   "language": "python",
   "name": "python3"
  },
  "language_info": {
   "codemirror_mode": {
    "name": "ipython",
    "version": 3
   },
   "file_extension": ".py",
   "mimetype": "text/x-python",
   "name": "python",
   "nbconvert_exporter": "python",
   "pygments_lexer": "ipython3",
   "version": "3.7.3"
  }
 },
 "nbformat": 4,
 "nbformat_minor": 2
}
