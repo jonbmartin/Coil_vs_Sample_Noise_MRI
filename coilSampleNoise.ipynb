{
 "cells": [
  {
   "cell_type": "code",
   "execution_count": 2,
   "metadata": {},
   "outputs": [],
   "source": [
    "# 12-18-2022\n",
    "# benjamin m hardy\n",
    "# Purpose: demonstrate relationships dictating relative noise contributions from \n",
    "# some key references:\n",
    "\n",
    "# great intro reference is Noise in MRI - Al macovski\n",
    "# [1] https://pubmed.ncbi.nlm.nih.gov/8875425/\n",
    "# another more recent interesting take:\n",
    "# [2] https://ieeexplore.ieee.org/document/5910383\n",
    "\n",
    "# great description of Q-relationship:\n",
    "# [3] https://pubmed.ncbi.nlm.nih.gov/10680678/\n",
    "# would be good to improve on this paper's assumptions and to show it experimentally.\n",
    "\n",
    "# Overall great reference is Darasse and Ginefri\n",
    "# [4] https://pubmed.ncbi.nlm.nih.gov/14652180/\n",
    "\n",
    "# key question: How does temperature, coil size, conductivity of sample, influence noise contributions\n",
    "# figure 4 in Darasse and Ginefri is the experimental demonstration we would want to show.\n"
   ]
  },
  {
   "cell_type": "code",
   "execution_count": 3,
   "metadata": {},
   "outputs": [],
   "source": [
    "# imports:\n",
    "from math import pi\n",
    "import numpy as np\n",
    "import matplotlib.pyplot as plt\n"
   ]
  },
  {
   "cell_type": "code",
   "execution_count": 4,
   "metadata": {},
   "outputs": [],
   "source": [
    "# use nice Latex typesetting\n",
    "plt.rcParams.update({\n",
    "    \"text.usetex\": True,\n",
    "    \"font.family\": \"Helvetica\"\n",
    "})"
   ]
  },
  {
   "cell_type": "code",
   "execution_count": 5,
   "metadata": {},
   "outputs": [
    {
     "data": {
      "image/png": "[encoded data removed]",
      "text/plain": [
       "<Figure size 432x288 with 1 Axes>"
      ]
     },
     "metadata": {
      "needs_background": "light"
     },
     "output_type": "display_data"
    }
   ],
   "source": [
    "# figure 1: \n",
    "# sample resistance and coil resistance vs coil size\n",
    "# for a uniform sphere (eq. 6 in ref [4], also hoult and Richards)\n",
    "\n",
    "# First plotting: sample noise vs sample size, uniform sphere (ref[4] eq 6)\n",
    "b = .005 # sample radius, m\n",
    "sigma = .66 # conductivity of sample, S/m\n",
    "omega = 2*pi*650e6 # resonance frequency, 650 MHz\n",
    "cc = 1 # coupling coefficient (B1/Ic) B1 over the current in coil\n",
    "rs = lambda sigma, omega, cc, b: 2*pi*sigma*omega**2 *cc**2 * b**5/15\n",
    "\n",
    "number_b_points = 100\n",
    "b_min = 0.005 # m\n",
    "b_max = 0.01 # m\n",
    "b_grid = np.linspace(b_min, b_max, number_b_points)\n",
    "rs_vs_b = []\n",
    "for b_index in range(number_b_points):\n",
    "    rs_vs_b.append(rs(sigma, omega, cc, b_grid[b_index]))\n",
    "    \n",
    "plt.plot(b_grid, rs_vs_b)\n",
    "plt.xlabel('$b (m)$')\n",
    "plt.ylabel(r'$R_s$')\n",
    "plt.title(r'$R_s$ vs sample size $b$')\n",
    "plt.show()\n",
    "\n",
    "# Next plotting: \n"
   ]
  },
  {
   "cell_type": "code",
   "execution_count": 6,
   "metadata": {},
   "outputs": [],
   "source": [
    "# Generating Equations [8] and [9] from Darasse and Ginefri \n",
    "# sample and coil contributions, simple circular SURFACE COIL model, \n",
    "# semi-infinite conductive sample\n",
    "\n",
    "a = .005 # coil radius,(m)\n",
    "n = 1 # number of turns\n",
    "r = 0.001 # wire radius (m)\n",
    "sigma = .66 # conductivity of sample, S/m\n",
    "d = 0.001 # spacing, the distance of the coil from the sample (m)\n",
    "mu_0 = 1.257*10e-6 # magnetic permeability of free space, H/m\n",
    "omega = 2*pi*650e6 # resonance frequency, 650 MHz\n",
    "xia_over_r = 40 # experimental surface coil value (Kober et al MRM 2001).\n",
    "rho_c = 15e-1 *10e-8 # ohm*m, assuming RRR=20, T = 77 K. From https://copper.org/resources/properties/cryogenic/\n",
    "rs_infinite_sample = lambda sigma, omega, mu_0, a, n, d: (2/(3*pi)) * sigma * mu_0**2 * omega**2 * n**2 * a**3 * np.arctan((pi*a)/(8*d))\n",
    "rc_infinite_sample = lambda rho_c, mu_0, omega, n, xia_over_r: np.sqrt(0.5*rho_c*mu_0*omega*n**2*xia_over_r)\n",
    "\n"
   ]
  },
  {
   "cell_type": "code",
   "execution_count": 14,
   "metadata": {},
   "outputs": [
    {
     "data": {
      "image/png": "[encoded data removed]",
      "text/plain": [
       "<Figure size 432x288 with 2 Axes>"
      ]
     },
     "metadata": {
      "needs_background": "light"
     },
     "output_type": "display_data"
    }
   ],
   "source": [
    "# let's try to recreate Figure 4, a coil resistance crossover graph, surface coil radius vs NMR frequency\n",
    "\n",
    "T_s = 77 # K \n",
    "T_c = 77 # K\n",
    "number_a_points = 100\n",
    "a_min = 0.0002 # m\n",
    "a_max = 0.2 # m\n",
    "a_grid = np.logspace(-4, 0, number_a_points)\n",
    "\n",
    "number_omega_points = 100\n",
    "omega_min = 2*pi*0.1*10e6\n",
    "omega_max = 2*pi*1000*10e6\n",
    "omega_grid = 2*pi* np.logspace(4, 9, number_omega_points)\n",
    "\n",
    "rsts_space = np.zeros((number_a_points, number_omega_points))\n",
    "rctc_space = np.zeros((number_a_points, number_omega_points))\n",
    "\n",
    "for a_index in range(number_a_points):\n",
    "    for omega_index in range(number_omega_points):\n",
    "        rsts_space[a_index, omega_index] = rs_infinite_sample(sigma, omega_grid[omega_index], mu_0, a_grid[a_index], n, d) * T_s\n",
    "        rctc_space[a_index, omega_index] = rc_infinite_sample(rho_c, mu_0, omega_grid[omega_index], n, xia_over_r) * T_c\n",
    "\n",
    "# result: yeah, it looks linear! \n",
    "plot_min = -20\n",
    "plot_max = 20\n",
    "plt.imshow(np.log(rsts_space/rctc_space), cmap='RdBu', vmin=plot_min, vmax=plot_max) # plot log to easily identify where predominance domains switch\n",
    "plt.colorbar()\n",
    "plt.title('Ln($R_sT_s/R_cT_c$)')\n",
    "plt.show()\n"
   ]
  },
  {
   "cell_type": "code",
   "execution_count": null,
   "metadata": {},
   "outputs": [],
   "source": [
    "# figure 2:\n",
    "# temperature of coil and conductivity of sample"
   ]
  }
 ],
 "metadata": {
  "kernelspec": {
   "display_name": "Python 3",
   "language": "python",
   "name": "python3"
  },
  "language_info": {
   "codemirror_mode": {
    "name": "ipython",
    "version": 3
   },
   "file_extension": ".py",
   "mimetype": "text/x-python",
   "name": "python",
   "nbconvert_exporter": "python",
   "pygments_lexer": "ipython3",
   "version": "3.7.3"
  }
 },
 "nbformat": 4,
 "nbformat_minor": 2
}
